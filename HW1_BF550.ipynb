{
 "cells": [
  {
   "cell_type": "code",
   "execution_count": 1,
   "metadata": {
    "colab": {
     "base_uri": "https://localhost:8080/"
    },
    "id": "DfzRSqDCmciH",
    "outputId": "890c4d31-59c0-45be-9870-f7418d132439"
   },
   "outputs": [
    {
     "name": "stdout",
     "output_type": "stream",
     "text": [
      "Number of samples available for just the first visit: 1685\n"
     ]
    }
   ],
   "source": [
    "import pandas as pd\n",
    "import numpy as np\n",
    "df = pd.read_csv(\"v13_map_uniquebyPSN.txt\", delimiter='\\t')\n",
    "one_visit = df['visitno'].value_counts().iloc[0]\n",
    "print(\"Number of samples available for just the first visit:\",one_visit)"
   ]
  },
  {
   "cell_type": "code",
   "execution_count": 4,
   "metadata": {
    "colab": {
     "base_uri": "https://localhost:8080/"
    },
    "id": "9uFALD7Ynmqf",
    "outputId": "c2ae8baf-22f0-44bb-91bd-27bee1a12adf"
   },
   "outputs": [],
   "source": [
    "bodysite_group = df.groupby('HMPbodysubsite')['#SampleID']\n",
    "#bodysite_group.get_group('Throat')"
   ]
  },
  {
   "cell_type": "code",
   "execution_count": 8,
   "metadata": {
    "id": "2xBu44fCsF0a"
   },
   "outputs": [],
   "source": [
    "subsite_col = df['HMPbodysubsite'].values.ravel()\n",
    "subsite_list =  pd.unique(subsite_col)\n",
    "for subsite in subsite_list:\n",
    "  sample_ids = np.array(bodysite_group.get_group(subsite).values)\n",
    "  np.savetxt(subsite, sample_ids, delimiter=',', fmt='% 4d')"
   ]
  },
  {
   "cell_type": "code",
   "execution_count": 6,
   "metadata": {
    "id": "C3RV0QVortEG"
   },
   "outputs": [
    {
     "name": "stdout",
     "output_type": "stream",
     "text": [
      "1685\n"
     ]
    }
   ],
   "source": [
    "import csv\n",
    "\n",
    "bodySampleType = {}\n",
    "\n",
    "with open(\"v13_map_uniquebyPSN.txt\") as file:\n",
    "    tsv_file = csv.reader(file, delimiter=\"\\t\")\n",
    "    i = 0\n",
    "    firstTimeUserCount = 0\n",
    "    for line in tsv_file:\n",
    "        if i != 0:\n",
    "            #Count first time\n",
    "            if line[2] == \"1\":\n",
    "                firstTimeUserCount = firstTimeUserCount + 1\n",
    "\n",
    "            #Segregate data by sample type\n",
    "            if line[5] not in bodySampleType.keys():\n",
    "                bodySampleType[line[5]] = []    \n",
    "            bodySampleType[line[5]].append(line[0])\n",
    "        i = i + 1\n",
    "    \n",
    "    #removing duplicates\n",
    "    for sampleType in bodySampleType:\n",
    "        bodySampleType[sampleType] = \"\\n\".join(list(set(bodySampleType[sampleType])))\n",
    "        f = open(sampleType, \"a\")\n",
    "        f.write(bodySampleType[sampleType])\n",
    "        f.close()\n",
    "\n",
    "    print(firstTimeUserCount)"
   ]
  },
  {
   "cell_type": "code",
   "execution_count": 7,
   "metadata": {},
   "outputs": [
    {
     "name": "stdout",
     "output_type": "stream",
     "text": [
      "1 15 105 455 1365 3003 5005 6435 6435 5005 3003 1365 455 105 15 1\n",
      "1 1\n",
      "1 3 3 1\n"
     ]
    }
   ],
   "source": [
    "from math import factorial\n",
    "\n",
    "class binomial_coefficient:\n",
    "    def __init__(self):\n",
    "        #init cache\n",
    "        self.cache = {}\n",
    "        \n",
    "    # Gerate binomial coefficient\n",
    "    def get_nk(self, n, k):\n",
    "        # binomial coefficient formula: n!/k!(n-k)!\n",
    "        return int(factorial(n) / (factorial(k) * factorial(n-k)))\n",
    "\n",
    "    #Generate n-th row\n",
    "    def get_n(self, n):\n",
    "        #Return from cache if available\n",
    "        if(n in self.cache.keys()):\n",
    "            return self.cache[n]\n",
    "\n",
    "        row = \"\"\n",
    "        for k in range (n + 1):\n",
    "            if k != 0:\n",
    "                row = row + \" \"\n",
    "            row = row + str(self.get_nk(n, k))\n",
    "        \n",
    "        #cache generated value\n",
    "        self.cache[n] = row\n",
    "        return row\n",
    "\n",
    "    #Add padding/white-space based on the total rows\n",
    "    def pad_row(self,n ,total_n):\n",
    "        space = \"\"\n",
    "        for j in range(total_n - n + 1):\n",
    "            space = space + \" \"\n",
    "        return space\n",
    "    \n",
    "    #Genrate entire pascal's triangle\n",
    "    def generate_triangle(self, n):\n",
    "        output = \"\"\n",
    "        for row in range(n + 1):\n",
    "            output = output + self.pad_row(row, n + 1) + self.get_n(row)\n",
    "            if row != n:\n",
    "                output = output + \"\\n\"\n",
    "        return output\n",
    "\n",
    "    #Save generated triangle to file\n",
    "    def save_pt(self, n, file_name='pascal_triangle.txt'):\n",
    "        f = open(file_name, \"a\")\n",
    "        f.write(self.generate_triangle(n))\n",
    "        f.close()\n",
    "\n",
    "\n",
    "bc = binomial_coefficient()\n",
    "print(bc.get_n(15))\n",
    "print(bc.get_n(1))\n",
    "print(bc.get_n(3))\n",
    "bc.save_pt(10)\n",
    "bc.save_pt(5)"
   ]
  },
  {
   "cell_type": "code",
   "execution_count": null,
   "metadata": {},
   "outputs": [],
   "source": []
  }
 ],
 "metadata": {
  "colab": {
   "name": "problem_2.ipynb",
   "provenance": []
  },
  "kernelspec": {
   "display_name": "Python 3",
   "language": "python",
   "name": "python3"
  },
  "language_info": {
   "codemirror_mode": {
    "name": "ipython",
    "version": 3
   },
   "file_extension": ".py",
   "mimetype": "text/x-python",
   "name": "python",
   "nbconvert_exporter": "python",
   "pygments_lexer": "ipython3",
   "version": "3.8.3"
  }
 },
 "nbformat": 4,
 "nbformat_minor": 1
}
