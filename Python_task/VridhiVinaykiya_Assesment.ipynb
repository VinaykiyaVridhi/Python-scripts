{
 "cells": [
  {
   "cell_type": "markdown",
   "id": "4f7ed692",
   "metadata": {},
   "source": [
    "# This task involves fetching the latest TCGA data for somatic variants found in the genomes of colon cancer patients, cleaning it up, and performing some analysis on it."
   ]
  },
  {
   "cell_type": "code",
   "execution_count": 1,
   "id": "85831e65",
   "metadata": {
    "scrolled": false
   },
   "outputs": [
    {
     "name": "stdout",
     "output_type": "stream",
     "text": [
      "Requirement already satisfied: lifelines in c:\\users\\vridh\\anaconda\\lib\\site-packages (0.27.4)\n",
      "Requirement already satisfied: matplotlib>=3.0 in c:\\users\\vridh\\anaconda\\lib\\site-packages (from lifelines) (3.3.4)\n",
      "Requirement already satisfied: autograd-gamma>=0.3 in c:\\users\\vridh\\anaconda\\lib\\site-packages (from lifelines) (0.5.0)\n",
      "Requirement already satisfied: autograd>=1.5 in c:\\users\\vridh\\anaconda\\lib\\site-packages (from lifelines) (1.5)\n",
      "Requirement already satisfied: formulaic>=0.2.2 in c:\\users\\vridh\\anaconda\\lib\\site-packages (from lifelines) (0.5.2)\n",
      "Requirement already satisfied: numpy>=1.14.0 in c:\\users\\vridh\\anaconda\\lib\\site-packages (from lifelines) (1.20.1)\n",
      "Requirement already satisfied: pandas>=1.0.0 in c:\\users\\vridh\\anaconda\\lib\\site-packages (from lifelines) (1.2.4)\n",
      "Requirement already satisfied: scipy>=1.2.0 in c:\\users\\vridh\\anaconda\\lib\\site-packages (from lifelines) (1.6.2)\n",
      "Requirement already satisfied: future>=0.15.2 in c:\\users\\vridh\\anaconda\\lib\\site-packages (from autograd>=1.5->lifelines) (0.18.2)\n",
      "Requirement already satisfied: graphlib-backport>=1.0.0 in c:\\users\\vridh\\anaconda\\lib\\site-packages (from formulaic>=0.2.2->lifelines) (1.0.3)\n",
      "Requirement already satisfied: typing-extensions>=4.2.0 in c:\\users\\vridh\\anaconda\\lib\\site-packages (from formulaic>=0.2.2->lifelines) (4.5.0)\n",
      "Requirement already satisfied: wrapt>=1.0 in c:\\users\\vridh\\anaconda\\lib\\site-packages (from formulaic>=0.2.2->lifelines) (1.12.1)\n",
      "Requirement already satisfied: astor>=0.8 in c:\\users\\vridh\\anaconda\\lib\\site-packages (from formulaic>=0.2.2->lifelines) (0.8.1)\n",
      "Requirement already satisfied: interface-meta>=1.2.0 in c:\\users\\vridh\\anaconda\\lib\\site-packages (from formulaic>=0.2.2->lifelines) (1.3.0)\n",
      "Requirement already satisfied: python-dateutil>=2.1 in c:\\users\\vridh\\anaconda\\lib\\site-packages (from matplotlib>=3.0->lifelines) (2.8.1)\n",
      "Requirement already satisfied: pyparsing!=2.0.4,!=2.1.2,!=2.1.6,>=2.0.3 in c:\\users\\vridh\\anaconda\\lib\\site-packages (from matplotlib>=3.0->lifelines) (2.4.7)\n",
      "Requirement already satisfied: pillow>=6.2.0 in c:\\users\\vridh\\anaconda\\lib\\site-packages (from matplotlib>=3.0->lifelines) (8.2.0)\n",
      "Requirement already satisfied: kiwisolver>=1.0.1 in c:\\users\\vridh\\anaconda\\lib\\site-packages (from matplotlib>=3.0->lifelines) (1.3.1)\n",
      "Requirement already satisfied: cycler>=0.10 in c:\\users\\vridh\\anaconda\\lib\\site-packages (from matplotlib>=3.0->lifelines) (0.10.0)\n",
      "Requirement already satisfied: six in c:\\users\\vridh\\anaconda\\lib\\site-packages (from cycler>=0.10->matplotlib>=3.0->lifelines) (1.15.0)\n",
      "Requirement already satisfied: pytz>=2017.3 in c:\\users\\vridh\\anaconda\\lib\\site-packages (from pandas>=1.0.0->lifelines) (2021.1)\n",
      "Note: you may need to restart the kernel to use updated packages.\n"
     ]
    }
   ],
   "source": [
    "pip install lifelines"
   ]
  },
  {
   "cell_type": "code",
   "execution_count": 2,
   "id": "900b3b47",
   "metadata": {},
   "outputs": [],
   "source": [
    "import os\n",
    "import gzip\n",
    "import numpy as np\n",
    "import pandas as pd"
   ]
  },
  {
   "cell_type": "markdown",
   "id": "52e335bc",
   "metadata": {},
   "source": [
    "Filter out irregular samples, ones that have an annotation other than category = General. \n",
    "\n",
    "This should discard approximately 60 samples. How many samples need to be discarded? "
   ]
  },
  {
   "cell_type": "code",
   "execution_count": 3,
   "id": "75d5c275",
   "metadata": {},
   "outputs": [
    {
     "name": "stdout",
     "output_type": "stream",
     "text": [
      "Number of samples to be deleted: 67\n"
     ]
    }
   ],
   "source": [
    "# This code iterates through all the files in a directory, opens a specific file called 'annotations.txt', and extracts a unique set of category values.\n",
    "\n",
    "# initialize empty lists\n",
    "required_samples = []        # to save the required files\n",
    "remove_samples = []          # to save the files to be removed\n",
    "maf_dir = \"mafs\"\n",
    "\n",
    "# loop through all the files in the directory\n",
    "for file in os.listdir(maf_dir):\n",
    "    \n",
    "    # ignore hidden system files on Windows\n",
    "    if file != \"Thumbs.db\":\n",
    "        \n",
    "        # construct the path to the annotations file\n",
    "        annotations_file = os.path.join(maf_dir, file, \"annotations.txt\")\n",
    "        \n",
    "        # open the annotations file\n",
    "        with open(annotations_file, 'r') as f:\n",
    "            \n",
    "            # extract a unique set of category values\n",
    "            category_values = set(line.strip().split(\"\\t\")[4] for line in f.readlines()[1:])\n",
    "            \n",
    "        # save files with only 'General' under category\n",
    "        if category_values == {\"General\"}:\n",
    "            required_samples.append(file)\n",
    "        else:\n",
    "            remove_samples.append(file)\n",
    "\n",
    "# print the number of files to be removed\n",
    "print(\"Number of samples to be deleted:\", len(remove_samples))\n"
   ]
  },
  {
   "cell_type": "markdown",
   "id": "6567cdba",
   "metadata": {},
   "source": [
    "Merge the MAFs you will keep into a single file.  Keep just one header, and discard the comment lines that begin with #.\n",
    "\n",
    "There will be around 220,000 lines. How many lines of data are there? "
   ]
  },
  {
   "cell_type": "code",
   "execution_count": 4,
   "id": "9b254d7a",
   "metadata": {},
   "outputs": [
    {
     "name": "stdout",
     "output_type": "stream",
     "text": [
      "Number of lines in the merged mafs file are: 219012\n"
     ]
    }
   ],
   "source": [
    "# create a new file to write the merged data\n",
    "with open('merged_mafsdata.txt', 'w') as merged:              \n",
    "    # loop through the files with required samples\n",
    "    for file in required_samples:\n",
    "        # loop through the items in the directory of the current file\n",
    "        for item in os.listdir(\"mafs/\"+file):\n",
    "            # check if the item is a gzipped file\n",
    "            if item.endswith(\".gz\"):\n",
    "                # open the gzipped file and read the lines\n",
    "                with gzip.open(\"mafs/\"+file+\"/\"+item,\"rb\") as f:\n",
    "                    for line in f.readlines():\n",
    "                        # convert the line to a string\n",
    "                        line = str(line, 'utf-8' )\n",
    "                        # if the current file is the first required sample, write the header to the merged file\n",
    "                        if file == required_samples[0]:\n",
    "                            if line[0] != \"#\" and \"Hugo_Symbol\" in line:\n",
    "                                merged.write(line) \n",
    "                        # if the line is not a comment and does not contain the header, write it to the merged file\n",
    "                        if line[0] != \"#\" and \"Hugo_Symbol\" not in line:\n",
    "                            merged.write(line)             # write the data to the new file\n",
    "                            \n",
    "# open the merged file and count the number of lines\n",
    "with open(\"merged_mafsdata.txt\",\"r\") as m:\n",
    "    print(\"Number of lines in the merged mafs file are:\",len(m.readlines()))"
   ]
  },
  {
   "cell_type": "markdown",
   "id": "bb7d82f0",
   "metadata": {},
   "source": [
    "Deduplicate patient data and keep the most recent.\n",
    "\n",
    "There should be around 175,000 lines remaining. How many lines of data remain? "
   ]
  },
  {
   "cell_type": "code",
   "execution_count": 5,
   "id": "e6a601d4",
   "metadata": {},
   "outputs": [],
   "source": [
    "def filter_patients(temp):\n",
    "    patients = {}  # create an empty dictionary to store the most recent sample for each patient\n",
    "    for barcode in temp:  # loop through the barcodes in the input list\n",
    "        patient_id = barcode[:12]  # extract the patient ID from the barcode\n",
    "        if patient_id not in patients:  # if the patient ID is not already in the dictionary, add it with the current barcode\n",
    "            patients[patient_id] = barcode\n",
    "        else:  # if the patient ID is already in the dictionary, replace the saved barcode if the current one is more recent\n",
    "            if barcode > patients[patient_id]:\n",
    "                patients[patient_id] = barcode\n",
    "    sample = list(patients.values())  # extract the most recent sample barcodes from the dictionary\n",
    "    patient = list(set(patients.keys()))  # extract the unique patient IDs from the dictionary keys\n",
    "    return sample, patient  # return the list of most recent sample barcodes and the list of unique patient IDs"
   ]
  },
  {
   "cell_type": "code",
   "execution_count": 6,
   "id": "a17f42ff",
   "metadata": {},
   "outputs": [
    {
     "name": "stdout",
     "output_type": "stream",
     "text": [
      "Number of lines in the merged mafs file after filtering out the patients are: 175418\n"
     ]
    }
   ],
   "source": [
    "# Define the name of the input and output files\n",
    "input_file = \"merged_mafsdata.txt\"\n",
    "output_file = \"merged_filtermafs.txt\"\n",
    "\n",
    "# Read in the input file and extract the sample barcodes\n",
    "with open(input_file, \"r\") as infile:\n",
    "    header = infile.readline()\n",
    "    tumor_sample_barcodes = [line.strip().split(\"\\t\")[15] for line in infile]\n",
    "\n",
    "# Filter the patients using the filter_patients() function\n",
    "keep_barcodes, maf_patients = filter_patients(np.array(tumor_sample_barcodes))\n",
    "\n",
    "# Open the output file for writing\n",
    "with open(output_file, \"w\") as outfile:\n",
    "    # Write the header to the output file\n",
    "    outfile.write(header)\n",
    "    # Open the input file for reading\n",
    "    with open(input_file, \"r\") as infile:\n",
    "        # Skip the header line\n",
    "        infile.readline()\n",
    "        # Loop through each line in the input file\n",
    "        for line in infile:\n",
    "            # Get the barcode from the current line\n",
    "            barcode = line.strip().split(\"\\t\")[15]\n",
    "            # Check if the barcode is in the list of barcodes to keep\n",
    "            if barcode in keep_barcodes:\n",
    "                # Write the line to the output file\n",
    "                outfile.write(line)\n",
    "                \n",
    "with open(\"merged_filtermafs.txt\",\"r\") as m1:\n",
    "    print(\"Number of lines in the merged mafs file after filtering out the patients are:\",len(m1.readlines()))"
   ]
  },
  {
   "cell_type": "markdown",
   "id": "b304f9d6",
   "metadata": {},
   "source": [
    "Keep only lines where either PolyPhen score contains possibly_damaging or probably_damaging, or where the SIFT score contains deleterious or deleterious_low_confidence, and remove the rest. \n",
    "\n",
    "There should be around 70,000 lines remaining. How many lines of data remain? "
   ]
  },
  {
   "cell_type": "code",
   "execution_count": 7,
   "id": "bfc72d5f",
   "metadata": {},
   "outputs": [
    {
     "name": "stdout",
     "output_type": "stream",
     "text": [
      "Number of lines in the merged mafs file after enriching the data for severe mutations are: 69050\n"
     ]
    }
   ],
   "source": [
    "# Import the csv module\n",
    "import csv\n",
    "\n",
    "# Open merged_mafs_PpS.txt file in write mode and merged_filtermafs.txt file in read mode\n",
    "with open(\"merged_mafs_PpS.txt\", \"w\", newline=\"\") as m2:\n",
    "    with open(\"merged_filtermafs.txt\", \"r\") as m1:\n",
    "        # Create a csv reader object and set the delimiter as tab\n",
    "        reader = csv.reader(m1, delimiter=\"\\t\")\n",
    "        # Create a csv writer object and set the delimiter as tab\n",
    "        writer = csv.writer(m2, delimiter=\"\\t\")\n",
    "        # Read the header from the csv file and write it to the output file\n",
    "        header = next(reader)\n",
    "        writer.writerow(header)\n",
    "        # Get the indices of the columns that contain the PolyPhen and SIFT scores\n",
    "        i1 = header.index(\"PolyPhen\")\n",
    "        i2 = header.index(\"SIFT\")\n",
    "        # Iterate over each line in the input file\n",
    "        for line in reader:\n",
    "            # Check if the line contains any of the four damaging variants\n",
    "            if (\"possibly_damaging\" in line[i1] \n",
    "                    or \"probably_damaging\" in line[i1] \n",
    "                    or \"deleterious\" in line[i2] \n",
    "                    or \"deleterious_low_confidence\" in line[i2]):\n",
    "                # Write the line to the output file if it contains any of the four damaging variants\n",
    "                writer.writerow(line)\n",
    "                \n",
    "with open(\"merged_mafs_PpS.txt\",\"r\") as m2:\n",
    "    print(\"Number of lines in the merged mafs file after enriching the data for severe mutations are:\",len(m2.readlines()))"
   ]
  },
  {
   "cell_type": "markdown",
   "id": "60a9e1d0",
   "metadata": {},
   "source": [
    "Find which genes are mutated in the most patients. The Hugo_Symbol column gives the common gene name. If a gene is mutated more than once in a single patient, count it just once.  The gene most frequently mutated in these patients is KRAS. \n",
    "\n",
    "How many patients is it mutated in? What are the four next most frequent genes? "
   ]
  },
  {
   "cell_type": "code",
   "execution_count": 8,
   "id": "720424b6",
   "metadata": {},
   "outputs": [],
   "source": [
    "# defaultdict means that if a key is not found in the dictionary, then instead of a KeyError being thrown, a new entry is created\n",
    "from collections import defaultdict\n",
    "\n",
    "# to save the mutated genes\n",
    "genes_mutated = []\n",
    "\n",
    "# to keep track of mutated genes for each patient\n",
    "patients_genes = defaultdict(list)\n",
    "\n",
    "with open(\"merged_mafs_PpS.txt\", \"r\") as m2:\n",
    "    header = m2.readline()  # read the first line as header\n",
    "    i1 = header.strip().split(\"\\t\").index(\"Tumor_Sample_Barcode\")  # get the index of sample IDs\n",
    "    i2 = header.strip().split(\"\\t\").index(\"Hugo_Symbol\")  # get the index of mutated genes\n",
    "    \n",
    "    for line in m2:\n",
    "        # get the sample id and gene name from the line\n",
    "        sample_id, gene = line.strip().split(\"\\t\")[i1][:12], line.strip().split(\"\\t\")[i2]\n",
    "        \n",
    "        # if the gene is not already recorded for this patient, add it to their list of mutated genes\n",
    "        if gene not in patients_genes[sample_id]:\n",
    "            patients_genes[sample_id].append(gene)\n",
    "\n",
    "    # convert the patient-gene dictionary to a list of lists\n",
    "    for patient, genes in patients_genes.items():\n",
    "        genes_mutated.append(genes)\n",
    "    \n",
    "    # get the list of patient ids\n",
    "    maf_patients = list(patients_genes.keys())\n"
   ]
  },
  {
   "cell_type": "code",
   "execution_count": 9,
   "id": "635d614c",
   "metadata": {},
   "outputs": [],
   "source": [
    "def find_top_mutated_genes(genes_mutated):\n",
    "    genes = []                             # to save all the unique genes\n",
    "    gene_counts = []                       # to save the gene counts\n",
    "    for patient_genes in genes_mutated:    # loop through the mutated genes in every patient\n",
    "        for gene in patient_genes:\n",
    "            if gene not in genes:          # check if the gene is new\n",
    "                genes.append(gene)         # add the new gene to the list\n",
    "                gene_counts.append(1)      # since it's new, the count is 1\n",
    "            else:\n",
    "                index = genes.index(gene)  # if the gene is already present, get the index\n",
    "                gene_counts[index] += 1    # increase the count by 1\n",
    "    sorted_gene_counts = sorted(gene_counts, reverse=True)  # sort the counts to get the top 5 in descending order\n",
    "    top5_mutated_genes = []\n",
    "    top5_mutated_gene_counts = []\n",
    "    for i in range(0, 5):                   # get the top 5 genes\n",
    "        top5_mutated_gene_counts.append(sorted_gene_counts[i])    # save the count\n",
    "        top5_mutated_genes.append(genes[gene_counts.index(sorted_gene_counts[i])])  # save the gene using the index\n",
    "    print(\"The top 5 most mutated genes are:\", top5_mutated_genes, \"with gene counts:\", top5_mutated_gene_counts)"
   ]
  },
  {
   "cell_type": "code",
   "execution_count": 10,
   "id": "6c0d16dd",
   "metadata": {},
   "outputs": [
    {
     "name": "stdout",
     "output_type": "stream",
     "text": [
      "The top 5 most mutated genes are: ['KRAS', 'TP53', 'TTN', 'PIK3CA', 'FAT4'] with gene counts: [155, 125, 113, 87, 70]\n"
     ]
    }
   ],
   "source": [
    "# Print the above function \n",
    "find_top_mutated_genes(genes_mutated)"
   ]
  },
  {
   "cell_type": "markdown",
   "id": "f7bf2579",
   "metadata": {},
   "source": [
    "Determine how the KRAS mutation status affects the Progression Free Interval, which is how long after the first treatment the patient avoids having a recurrence of the cancer. The CDR file is missing information from a handful of the patients in our set.  Discard patients that are missing this data. \n",
    "\n",
    "How many patients are missing from the CDR file?"
   ]
  },
  {
   "cell_type": "code",
   "execution_count": 11,
   "id": "54a37162",
   "metadata": {},
   "outputs": [
    {
     "name": "stdout",
     "output_type": "stream",
     "text": [
      "Number of patients missing from the CDR file are: 2\n"
     ]
    }
   ],
   "source": [
    "# Read the CDR data\n",
    "CDR_data = pd.read_csv('TCGA-CDR-SupplementalTableS1.xlsx - TCGA-CDR.tsv', sep='\\t')\n",
    "\n",
    "# Get the patient IDs\n",
    "bcr_patients = list(CDR_data[\"bcr_patient_barcode\"])\n",
    "\n",
    "# Find the patients that have CDR data\n",
    "patients_with_CDR_data = set(bcr_patients).intersection(maf_patients)\n",
    "\n",
    "# Print the number of patients missing from the CDR file\n",
    "print(\"Number of patients missing from the CDR file are:\", len(maf_patients) - len(patients_with_CDR_data))"
   ]
  },
  {
   "cell_type": "markdown",
   "id": "9417fd37",
   "metadata": {},
   "source": [
    "Check how mutations in KRAS affect the Progression Free Interval. First, plot the Kaplan-Meier survival curves for patients with and without a KRAS mutation. Then, test whether the difference is statistically significant.  What does this say about patients who have a mutation in KRAS?"
   ]
  },
  {
   "cell_type": "code",
   "execution_count": 12,
   "id": "ff43a70a",
   "metadata": {},
   "outputs": [
    {
     "name": "stdout",
     "output_type": "stream",
     "text": [
      "Number of patients with KRAS mutation where the cancer returned are: 56\n",
      "Number of patients with KRAS mutation where cancer did not return are:  98\n"
     ]
    }
   ],
   "source": [
    "# Create a list to save patients with KRAS mutation\n",
    "KRAS_patients = []\n",
    "\n",
    "# Loop through the mutated genes in every patient\n",
    "for patient_genes in genes_mutated:\n",
    "    \n",
    "    # Check if the patient has KRAS mutation\n",
    "    if \"KRAS\" in patient_genes:\n",
    "        \n",
    "        # Append the corresponding patient to KRAS_patients list\n",
    "        KRAS_patients.append(maf_patients[genes_mutated.index(patient_genes)])\n",
    "        \n",
    "# Get the patients with CDR data that also have KRAS mutation\n",
    "KRAS_patients = set(patients_with_CDR_data).intersection(KRAS_patients)\n",
    "\n",
    "# Get the patients with CDR data who do not have KRAS mutation\n",
    "non_KRAS_patients = patients_with_CDR_data - KRAS_patients\n",
    "\n",
    "# Select only the required data for the Kaplan-Meier survival curves\n",
    "filtered_CDR_data = CDR_data[[\"bcr_patient_barcode\", \"PFI\", \"PFI.time\"]]\n",
    "\n",
    "# Make a new list with KRAS mutation status\n",
    "mutation = [\"KRAS\" if i in KRAS_patients else \"non_KRAS\" for i in filtered_CDR_data[\"bcr_patient_barcode\"]]\n",
    "\n",
    "# Insert a new column to the filtered data\n",
    "filtered_CDR_data.insert(3, \"mutation\", mutation)\n",
    "\n",
    "# Add a column for KRAS mutation status\n",
    "filtered_CDR_data = filtered_CDR_data[filtered_CDR_data[\"bcr_patient_barcode\"].isin(patients_with_CDR_data)]\n",
    "\n",
    "# Filter the rows containing only KRAS mutation from the filtered_CDR_data dataframe\n",
    "KRAS_CDR_data = filtered_CDR_data[filtered_CDR_data[\"mutation\"] == \"KRAS\"]\n",
    "\n",
    "# Get a list of PFI values from the filtered KRAS data\n",
    "KRAS_PFI = list(KRAS_CDR_data[\"PFI\"])\n",
    "\n",
    "# Count the number of patients with KRAS mutation where the cancer returned\n",
    "cancer_returned_KRAS = KRAS_PFI.count(1)\n",
    "\n",
    "# Count the number of patients with KRAS mutation where the cancer did not return\n",
    "censored_KRAS = KRAS_PFI.count(0)\n",
    "\n",
    "# Print the number of patients with KRAS mutation where the cancer returned and where it didn't\n",
    "print(\"Number of patients with KRAS mutation where the cancer returned are:\", cancer_returned_KRAS)\n",
    "print(\"Number of patients with KRAS mutation where cancer did not return are: \",censored_KRAS)"
   ]
  },
  {
   "cell_type": "code",
   "execution_count": 13,
   "id": "0d6d30a5",
   "metadata": {},
   "outputs": [
    {
     "data": {
      "text/html": [
       "<div>\n",
       "<style scoped>\n",
       "    .dataframe tbody tr th:only-of-type {\n",
       "        vertical-align: middle;\n",
       "    }\n",
       "\n",
       "    .dataframe tbody tr th {\n",
       "        vertical-align: top;\n",
       "    }\n",
       "\n",
       "    .dataframe thead th {\n",
       "        text-align: right;\n",
       "    }\n",
       "</style>\n",
       "<table border=\"1\" class=\"dataframe\">\n",
       "  <thead>\n",
       "    <tr style=\"text-align: right;\">\n",
       "      <th></th>\n",
       "      <th></th>\n",
       "      <th>test_statistic</th>\n",
       "      <th>p</th>\n",
       "      <th>-log2(p)</th>\n",
       "    </tr>\n",
       "  </thead>\n",
       "  <tbody>\n",
       "    <tr>\n",
       "      <th>KRAS</th>\n",
       "      <th>non_KRAS</th>\n",
       "      <td>3.566846</td>\n",
       "      <td>0.058944</td>\n",
       "      <td>4.084507</td>\n",
       "    </tr>\n",
       "  </tbody>\n",
       "</table>\n",
       "</div>"
      ],
      "text/plain": [
       "               test_statistic         p  -log2(p)\n",
       "KRAS non_KRAS        3.566846  0.058944  4.084507"
      ]
     },
     "execution_count": 13,
     "metadata": {},
     "output_type": "execute_result"
    },
    {
     "data": {
      "image/png": "[encoded data removed]",
      "text/plain": [
       "<Figure size 648x504 with 1 Axes>"
      ]
     },
     "metadata": {
      "needs_background": "light"
     },
     "output_type": "display_data"
    }
   ],
   "source": [
    "# import required packages\n",
    "import matplotlib.pyplot as plt\n",
    "from lifelines import KaplanMeierFitter \n",
    "from lifelines.statistics import pairwise_logrank_test\n",
    "\n",
    "# Initialize KaplanMeierFitter object\n",
    "kmf = KaplanMeierFitter()\n",
    "\n",
    "# Get PFI time and PFI data from filtered CDR data\n",
    "PFI_time = filtered_CDR_data['PFI.time']\n",
    "PFI = filtered_CDR_data['PFI']\n",
    "\n",
    "# Helper function for plotting Kaplan-Meier curves at the covariate level\n",
    "def plot_km(col):\n",
    "    # Create a figure object\n",
    "    fig = plt.figure(figsize=[9,7])\n",
    "    \n",
    "    # Add a subplot to the figure\n",
    "    ax = fig.add_subplot(111)\n",
    "    \n",
    "    # Loop through the unique values under mutation column\n",
    "    for mutation in filtered_CDR_data[col].unique():\n",
    "        # Get the rows for this mutation\n",
    "        ix = filtered_CDR_data[col] == mutation\n",
    "        \n",
    "        # Fit the KaplanMeierFitter model on the data for this mutation\n",
    "        kmf.fit(PFI_time[ix], PFI[ix], label=mutation)\n",
    "        \n",
    "        # Plot the KaplanMeierFitter model on the subplot\n",
    "        kmf.plot(ax=ax, title='Kaplan-Meier Survival Curve: Cancer patients')\n",
    "    \n",
    "# Helper function for printing out Log-rank test results\n",
    "def print_logrank(col):\n",
    "    # Run pairwise Log-rank test on the data\n",
    "    log_rank = pairwise_logrank_test(filtered_CDR_data['PFI.time'], filtered_CDR_data[col], filtered_CDR_data['PFI'], bonferri=True)\n",
    "    \n",
    "    # Return the summary of Log-rank test\n",
    "    return log_rank.summary\n",
    "\n",
    "# Call the helper function to plot the KM curve grouping by mutation\n",
    "plot_km(\"mutation\")\n",
    "\n",
    "# Call the helper function to get the p-value using the Log-rank test\n",
    "print_logrank(\"mutation\")\n"
   ]
  },
  {
   "cell_type": "markdown",
   "id": "c294f5a4",
   "metadata": {},
   "source": [
    "The Kaplan-Meier method is a practical technique that could contribute significantly to the production of evidence-based data on survival time. To compare the full curves of each group, the log rank test computes the chi-square (X2). The two curves are not statistically significantly different because the log rank rest for the data in our example was P = 0.058, which is not <0.05. This is probably due to the sample's small size, which makes it difficult to rule out a true difference and prevent a type 2 error (false negative). Therefore, we can conclude that there is no significant variance in survival between the two groups of patients (those with and without the KRAS mutation)."
   ]
  },
  {
   "cell_type": "code",
   "execution_count": null,
   "id": "c56b285f",
   "metadata": {},
   "outputs": [],
   "source": []
  }
 ],
 "metadata": {
  "kernelspec": {
   "display_name": "Python 3",
   "language": "python",
   "name": "python3"
  },
  "language_info": {
   "codemirror_mode": {
    "name": "ipython",
    "version": 3
   },
   "file_extension": ".py",
   "mimetype": "text/x-python",
   "name": "python",
   "nbconvert_exporter": "python",
   "pygments_lexer": "ipython3",
   "version": "3.8.8"
  }
 },
 "nbformat": 4,
 "nbformat_minor": 5
}
