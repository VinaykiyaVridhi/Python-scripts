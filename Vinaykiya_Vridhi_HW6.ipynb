{
 "cells": [
  {
   "cell_type": "code",
   "execution_count": 1,
   "metadata": {},
   "outputs": [],
   "source": [
    "import pandas as pd\n",
    "from sklearn.decomposition import PCA\n",
    "from sklearn.preprocessing import StandardScaler\n",
    "import matplotlib.pyplot as plt"
   ]
  },
  {
   "cell_type": "code",
   "execution_count": 2,
   "metadata": {},
   "outputs": [],
   "source": [
    "data = pd.read_csv('datapoints.csv')"
   ]
  },
  {
   "cell_type": "code",
   "execution_count": 3,
   "metadata": {},
   "outputs": [
    {
     "data": {
      "text/html": [
       "<div>\n",
       "<style scoped>\n",
       "    .dataframe tbody tr th:only-of-type {\n",
       "        vertical-align: middle;\n",
       "    }\n",
       "\n",
       "    .dataframe tbody tr th {\n",
       "        vertical-align: top;\n",
       "    }\n",
       "\n",
       "    .dataframe thead th {\n",
       "        text-align: right;\n",
       "    }\n",
       "</style>\n",
       "<table border=\"1\" class=\"dataframe\">\n",
       "  <thead>\n",
       "    <tr style=\"text-align: right;\">\n",
       "      <th></th>\n",
       "      <th>0</th>\n",
       "      <th>1</th>\n",
       "      <th>2</th>\n",
       "      <th>3</th>\n",
       "      <th>4</th>\n",
       "      <th>5</th>\n",
       "      <th>6</th>\n",
       "      <th>7</th>\n",
       "      <th>8</th>\n",
       "      <th>9</th>\n",
       "      <th>10</th>\n",
       "      <th>11</th>\n",
       "      <th>12</th>\n",
       "      <th>13</th>\n",
       "      <th>14</th>\n",
       "      <th>15</th>\n",
       "      <th>16</th>\n",
       "      <th>17</th>\n",
       "      <th>18</th>\n",
       "      <th>19</th>\n",
       "    </tr>\n",
       "  </thead>\n",
       "  <tbody>\n",
       "    <tr>\n",
       "      <th>0</th>\n",
       "      <td>3.604537</td>\n",
       "      <td>-4.074720</td>\n",
       "      <td>4.394341</td>\n",
       "      <td>-8.985538</td>\n",
       "      <td>7.902773</td>\n",
       "      <td>-2.755843</td>\n",
       "      <td>10.630958</td>\n",
       "      <td>-5.373239</td>\n",
       "      <td>4.009600</td>\n",
       "      <td>-4.229498</td>\n",
       "      <td>-10.220173</td>\n",
       "      <td>4.333098</td>\n",
       "      <td>1.542483</td>\n",
       "      <td>4.250416</td>\n",
       "      <td>5.846128</td>\n",
       "      <td>-6.965729</td>\n",
       "      <td>-5.341467</td>\n",
       "      <td>11.272064</td>\n",
       "      <td>-7.985410</td>\n",
       "      <td>-5.185178</td>\n",
       "    </tr>\n",
       "    <tr>\n",
       "      <th>1</th>\n",
       "      <td>6.132880</td>\n",
       "      <td>-3.692784</td>\n",
       "      <td>5.469925</td>\n",
       "      <td>-8.784374</td>\n",
       "      <td>7.523396</td>\n",
       "      <td>-6.950867</td>\n",
       "      <td>9.389546</td>\n",
       "      <td>-4.439577</td>\n",
       "      <td>-5.035254</td>\n",
       "      <td>-6.491368</td>\n",
       "      <td>-6.440951</td>\n",
       "      <td>4.191095</td>\n",
       "      <td>3.066212</td>\n",
       "      <td>3.642899</td>\n",
       "      <td>8.594143</td>\n",
       "      <td>-6.743492</td>\n",
       "      <td>-3.990397</td>\n",
       "      <td>4.802644</td>\n",
       "      <td>-3.639562</td>\n",
       "      <td>-7.975290</td>\n",
       "    </tr>\n",
       "    <tr>\n",
       "      <th>2</th>\n",
       "      <td>0.663238</td>\n",
       "      <td>3.517923</td>\n",
       "      <td>7.960804</td>\n",
       "      <td>-10.325392</td>\n",
       "      <td>9.094815</td>\n",
       "      <td>-6.112665</td>\n",
       "      <td>2.733140</td>\n",
       "      <td>1.849536</td>\n",
       "      <td>-7.914765</td>\n",
       "      <td>5.470824</td>\n",
       "      <td>4.480503</td>\n",
       "      <td>-2.527807</td>\n",
       "      <td>1.526283</td>\n",
       "      <td>4.691212</td>\n",
       "      <td>-3.507823</td>\n",
       "      <td>7.628666</td>\n",
       "      <td>-5.462215</td>\n",
       "      <td>1.409860</td>\n",
       "      <td>-2.490485</td>\n",
       "      <td>-3.683909</td>\n",
       "    </tr>\n",
       "    <tr>\n",
       "      <th>3</th>\n",
       "      <td>-1.761282</td>\n",
       "      <td>4.542657</td>\n",
       "      <td>-6.824370</td>\n",
       "      <td>-4.045568</td>\n",
       "      <td>3.340414</td>\n",
       "      <td>1.547008</td>\n",
       "      <td>4.343557</td>\n",
       "      <td>5.525954</td>\n",
       "      <td>-5.910196</td>\n",
       "      <td>-11.212215</td>\n",
       "      <td>6.171441</td>\n",
       "      <td>-2.410179</td>\n",
       "      <td>-5.000470</td>\n",
       "      <td>6.040921</td>\n",
       "      <td>1.689210</td>\n",
       "      <td>-2.426857</td>\n",
       "      <td>3.427620</td>\n",
       "      <td>-0.402328</td>\n",
       "      <td>-10.230523</td>\n",
       "      <td>-7.348867</td>\n",
       "    </tr>\n",
       "    <tr>\n",
       "      <th>4</th>\n",
       "      <td>-5.438841</td>\n",
       "      <td>9.987606</td>\n",
       "      <td>-4.551035</td>\n",
       "      <td>-3.811889</td>\n",
       "      <td>-0.172951</td>\n",
       "      <td>1.595263</td>\n",
       "      <td>5.984809</td>\n",
       "      <td>4.883073</td>\n",
       "      <td>-5.543870</td>\n",
       "      <td>-7.128993</td>\n",
       "      <td>5.795476</td>\n",
       "      <td>-2.676930</td>\n",
       "      <td>-1.455519</td>\n",
       "      <td>8.249824</td>\n",
       "      <td>6.378697</td>\n",
       "      <td>-1.202033</td>\n",
       "      <td>8.614545</td>\n",
       "      <td>-1.844604</td>\n",
       "      <td>-7.525653</td>\n",
       "      <td>-9.050910</td>\n",
       "    </tr>\n",
       "  </tbody>\n",
       "</table>\n",
       "</div>"
      ],
      "text/plain": [
       "          0         1         2          3         4         5          6  \\\n",
       "0  3.604537 -4.074720  4.394341  -8.985538  7.902773 -2.755843  10.630958   \n",
       "1  6.132880 -3.692784  5.469925  -8.784374  7.523396 -6.950867   9.389546   \n",
       "2  0.663238  3.517923  7.960804 -10.325392  9.094815 -6.112665   2.733140   \n",
       "3 -1.761282  4.542657 -6.824370  -4.045568  3.340414  1.547008   4.343557   \n",
       "4 -5.438841  9.987606 -4.551035  -3.811889 -0.172951  1.595263   5.984809   \n",
       "\n",
       "          7         8          9         10        11        12        13  \\\n",
       "0 -5.373239  4.009600  -4.229498 -10.220173  4.333098  1.542483  4.250416   \n",
       "1 -4.439577 -5.035254  -6.491368  -6.440951  4.191095  3.066212  3.642899   \n",
       "2  1.849536 -7.914765   5.470824   4.480503 -2.527807  1.526283  4.691212   \n",
       "3  5.525954 -5.910196 -11.212215   6.171441 -2.410179 -5.000470  6.040921   \n",
       "4  4.883073 -5.543870  -7.128993   5.795476 -2.676930 -1.455519  8.249824   \n",
       "\n",
       "         14        15        16         17         18        19  \n",
       "0  5.846128 -6.965729 -5.341467  11.272064  -7.985410 -5.185178  \n",
       "1  8.594143 -6.743492 -3.990397   4.802644  -3.639562 -7.975290  \n",
       "2 -3.507823  7.628666 -5.462215   1.409860  -2.490485 -3.683909  \n",
       "3  1.689210 -2.426857  3.427620  -0.402328 -10.230523 -7.348867  \n",
       "4  6.378697 -1.202033  8.614545  -1.844604  -7.525653 -9.050910  "
      ]
     },
     "execution_count": 3,
     "metadata": {},
     "output_type": "execute_result"
    }
   ],
   "source": [
    "data.head()"
   ]
  },
  {
   "cell_type": "markdown",
   "metadata": {},
   "source": [
    "# Problem 1"
   ]
  },
  {
   "cell_type": "code",
   "execution_count": 4,
   "metadata": {},
   "outputs": [
    {
     "data": {
      "text/plain": [
       "Text(0, 0.5, '3rd dimension')"
      ]
     },
     "execution_count": 4,
     "metadata": {},
     "output_type": "execute_result"
    },
    {
     "data": {
      "image/png": "[encoded data removed]",
      "text/plain": [
       "<Figure size 432x288 with 1 Axes>"
      ]
     },
     "metadata": {
      "needs_background": "light"
     },
     "output_type": "display_data"
    }
   ],
   "source": [
    "# A.) Visualise the raw data for all the points in the 3rd versus the 18th dimension in the datapoint.csv file\n",
    "plt.scatter(data['17'], data['2'])\n",
    "plt.xlabel('18th dimension')\n",
    "plt.ylabel('3rd dimension')"
   ]
  },
  {
   "cell_type": "code",
   "execution_count": 5,
   "metadata": {},
   "outputs": [
    {
     "data": {
      "text/html": [
       "<div>\n",
       "<style scoped>\n",
       "    .dataframe tbody tr th:only-of-type {\n",
       "        vertical-align: middle;\n",
       "    }\n",
       "\n",
       "    .dataframe tbody tr th {\n",
       "        vertical-align: top;\n",
       "    }\n",
       "\n",
       "    .dataframe thead th {\n",
       "        text-align: right;\n",
       "    }\n",
       "</style>\n",
       "<table border=\"1\" class=\"dataframe\">\n",
       "  <thead>\n",
       "    <tr style=\"text-align: right;\">\n",
       "      <th></th>\n",
       "      <th>0</th>\n",
       "      <th>1</th>\n",
       "      <th>2</th>\n",
       "      <th>3</th>\n",
       "      <th>4</th>\n",
       "      <th>5</th>\n",
       "      <th>6</th>\n",
       "      <th>7</th>\n",
       "      <th>8</th>\n",
       "      <th>9</th>\n",
       "      <th>10</th>\n",
       "      <th>11</th>\n",
       "      <th>12</th>\n",
       "      <th>13</th>\n",
       "      <th>14</th>\n",
       "      <th>15</th>\n",
       "      <th>16</th>\n",
       "      <th>17</th>\n",
       "      <th>18</th>\n",
       "      <th>19</th>\n",
       "    </tr>\n",
       "  </thead>\n",
       "  <tbody>\n",
       "    <tr>\n",
       "      <th>0</th>\n",
       "      <td>-3.113869</td>\n",
       "      <td>-2.532172</td>\n",
       "      <td>0.096166</td>\n",
       "      <td>0.185324</td>\n",
       "      <td>0.555744</td>\n",
       "      <td>-0.494945</td>\n",
       "      <td>0.292862</td>\n",
       "      <td>1.105187</td>\n",
       "      <td>-0.169302</td>\n",
       "      <td>-0.092529</td>\n",
       "      <td>0.094455</td>\n",
       "      <td>-0.244863</td>\n",
       "      <td>0.171160</td>\n",
       "      <td>0.039969</td>\n",
       "      <td>0.396513</td>\n",
       "      <td>0.549275</td>\n",
       "      <td>0.249504</td>\n",
       "      <td>0.029750</td>\n",
       "      <td>-0.630281</td>\n",
       "      <td>0.133506</td>\n",
       "    </tr>\n",
       "    <tr>\n",
       "      <th>1</th>\n",
       "      <td>-2.872880</td>\n",
       "      <td>-1.495775</td>\n",
       "      <td>-0.759959</td>\n",
       "      <td>1.312882</td>\n",
       "      <td>-0.377708</td>\n",
       "      <td>-1.379350</td>\n",
       "      <td>-0.202223</td>\n",
       "      <td>0.298977</td>\n",
       "      <td>0.075088</td>\n",
       "      <td>-0.982829</td>\n",
       "      <td>-0.103311</td>\n",
       "      <td>-0.130485</td>\n",
       "      <td>0.545735</td>\n",
       "      <td>0.943017</td>\n",
       "      <td>-0.589967</td>\n",
       "      <td>-0.304988</td>\n",
       "      <td>0.351901</td>\n",
       "      <td>-0.185448</td>\n",
       "      <td>-0.172782</td>\n",
       "      <td>0.230824</td>\n",
       "    </tr>\n",
       "    <tr>\n",
       "      <th>2</th>\n",
       "      <td>-1.520137</td>\n",
       "      <td>2.945296</td>\n",
       "      <td>-0.103888</td>\n",
       "      <td>0.761275</td>\n",
       "      <td>0.069016</td>\n",
       "      <td>-0.383623</td>\n",
       "      <td>-0.028066</td>\n",
       "      <td>-0.777222</td>\n",
       "      <td>0.731903</td>\n",
       "      <td>0.680531</td>\n",
       "      <td>0.866419</td>\n",
       "      <td>-0.753357</td>\n",
       "      <td>-1.140484</td>\n",
       "      <td>0.105570</td>\n",
       "      <td>0.097766</td>\n",
       "      <td>0.142743</td>\n",
       "      <td>-0.281264</td>\n",
       "      <td>0.021052</td>\n",
       "      <td>-0.714013</td>\n",
       "      <td>-0.291679</td>\n",
       "    </tr>\n",
       "    <tr>\n",
       "      <th>3</th>\n",
       "      <td>2.956187</td>\n",
       "      <td>-0.627534</td>\n",
       "      <td>-1.041199</td>\n",
       "      <td>-0.501407</td>\n",
       "      <td>-0.062864</td>\n",
       "      <td>-0.041759</td>\n",
       "      <td>-0.631467</td>\n",
       "      <td>0.926523</td>\n",
       "      <td>0.512896</td>\n",
       "      <td>-0.242742</td>\n",
       "      <td>-0.169705</td>\n",
       "      <td>0.547055</td>\n",
       "      <td>-0.074156</td>\n",
       "      <td>-0.340898</td>\n",
       "      <td>0.804448</td>\n",
       "      <td>-0.215219</td>\n",
       "      <td>-0.374926</td>\n",
       "      <td>-0.403022</td>\n",
       "      <td>-0.012356</td>\n",
       "      <td>0.339519</td>\n",
       "    </tr>\n",
       "    <tr>\n",
       "      <th>4</th>\n",
       "      <td>3.309341</td>\n",
       "      <td>-0.673007</td>\n",
       "      <td>-0.997370</td>\n",
       "      <td>1.188107</td>\n",
       "      <td>-0.418880</td>\n",
       "      <td>0.268477</td>\n",
       "      <td>-0.674102</td>\n",
       "      <td>0.272727</td>\n",
       "      <td>0.346649</td>\n",
       "      <td>1.117799</td>\n",
       "      <td>-0.470771</td>\n",
       "      <td>0.625851</td>\n",
       "      <td>-0.413139</td>\n",
       "      <td>-0.275758</td>\n",
       "      <td>0.179786</td>\n",
       "      <td>-0.515685</td>\n",
       "      <td>0.410835</td>\n",
       "      <td>0.418016</td>\n",
       "      <td>0.182096</td>\n",
       "      <td>0.076664</td>\n",
       "    </tr>\n",
       "  </tbody>\n",
       "</table>\n",
       "</div>"
      ],
      "text/plain": [
       "          0         1         2         3         4         5         6  \\\n",
       "0 -3.113869 -2.532172  0.096166  0.185324  0.555744 -0.494945  0.292862   \n",
       "1 -2.872880 -1.495775 -0.759959  1.312882 -0.377708 -1.379350 -0.202223   \n",
       "2 -1.520137  2.945296 -0.103888  0.761275  0.069016 -0.383623 -0.028066   \n",
       "3  2.956187 -0.627534 -1.041199 -0.501407 -0.062864 -0.041759 -0.631467   \n",
       "4  3.309341 -0.673007 -0.997370  1.188107 -0.418880  0.268477 -0.674102   \n",
       "\n",
       "          7         8         9        10        11        12        13  \\\n",
       "0  1.105187 -0.169302 -0.092529  0.094455 -0.244863  0.171160  0.039969   \n",
       "1  0.298977  0.075088 -0.982829 -0.103311 -0.130485  0.545735  0.943017   \n",
       "2 -0.777222  0.731903  0.680531  0.866419 -0.753357 -1.140484  0.105570   \n",
       "3  0.926523  0.512896 -0.242742 -0.169705  0.547055 -0.074156 -0.340898   \n",
       "4  0.272727  0.346649  1.117799 -0.470771  0.625851 -0.413139 -0.275758   \n",
       "\n",
       "         14        15        16        17        18        19  \n",
       "0  0.396513  0.549275  0.249504  0.029750 -0.630281  0.133506  \n",
       "1 -0.589967 -0.304988  0.351901 -0.185448 -0.172782  0.230824  \n",
       "2  0.097766  0.142743 -0.281264  0.021052 -0.714013 -0.291679  \n",
       "3  0.804448 -0.215219 -0.374926 -0.403022 -0.012356  0.339519  \n",
       "4  0.179786 -0.515685  0.410835  0.418016  0.182096  0.076664  "
      ]
     },
     "execution_count": 5,
     "metadata": {},
     "output_type": "execute_result"
    }
   ],
   "source": [
    "# B.) Perform principal componenet analysis (PCA) on the data and return all the principal componenets.\n",
    "# Show the pricnipal components in the pandas dataframe\n",
    "scalar = StandardScaler()\n",
    "scaled_data = scalar.fit_transform(data)\n",
    "\n",
    "pca = PCA()\n",
    "pca_data = pca.fit_transform(scaled_data)\n",
    "pca_df = pd.DataFrame(pca_data)\n",
    "pca_df.head()"
   ]
  },
  {
   "cell_type": "code",
   "execution_count": 6,
   "metadata": {},
   "outputs": [
    {
     "name": "stdout",
     "output_type": "stream",
     "text": [
      "[36.90233333 26.65836626  4.51759852  3.85888168  3.59393012  3.09121252\n",
      "  3.07808059  2.70407297  2.35557764  1.84457371  1.65692984  1.3148194\n",
      "  1.29183204  1.20678946  1.10646678  1.0997347   1.0171769   0.99137351\n",
      "  0.89089879  0.81935124]\n"
     ]
    },
    {
     "data": {
      "text/plain": [
       "Text(0.5, 1.0, 'Percent Variance Vs PCA Axes')"
      ]
     },
     "execution_count": 6,
     "metadata": {},
     "output_type": "execute_result"
    },
    {
     "data": {
      "image/png": "[encoded data removed]",
      "text/plain": [
       "<Figure size 432x288 with 1 Axes>"
      ]
     },
     "metadata": {
      "needs_background": "light"
     },
     "output_type": "display_data"
    }
   ],
   "source": [
    "# C.) Plot the variance captured by each principal component.\n",
    "# Based on this plot explain if PCA is a good option to reduce the dimensions of the given data\n",
    "variance_captured = pca.explained_variance_ratio_\n",
    "\n",
    "\n",
    "# plotting the variance\n",
    "x_axis = range(1,len(variance_captured)+1)\n",
    "plt.xticks(x_axis)\n",
    "variance_percent = variance_captured * 100\n",
    "print(variance_percent)\n",
    "plt.bar(x_axis,variance_percent)\n",
    "plt.xlabel('Principal Components Axes')\n",
    "plt.ylabel('Percent Variance')\n",
    "plt.title('Percent Variance Vs PCA Axes')\n",
    "\n",
    "# We can see that the first principal component only captures 36.9% of variance whereas the second principal component\n",
    "# captures 26.6% of variance in our data and in total they are capturing only 63.5% of variance of our total data.\n",
    "# and the remaining principal component axes are capturing very very less variance therefore I would say that PCA is a\n",
    "# good option to reduce the dimensions of the given data as the first two principal components are able to capture \n",
    "# sufficient variance from our data and thus we can use them as a representative for our entire dataset."
   ]
  },
  {
   "cell_type": "code",
   "execution_count": 7,
   "metadata": {},
   "outputs": [
    {
     "data": {
      "text/plain": [
       "Text(0, 0.5, 'PC_2 (26.66%)')"
      ]
     },
     "execution_count": 7,
     "metadata": {},
     "output_type": "execute_result"
    },
    {
     "data": {
      "image/png": "[encoded data removed]",
      "text/plain": [
       "<Figure size 432x288 with 1 Axes>"
      ]
     },
     "metadata": {
      "needs_background": "light"
     },
     "output_type": "display_data"
    }
   ],
   "source": [
    "# D.) Plot the first two principal components. Make sure to include the variance captured by the first two principal\n",
    "# components in the axis labels\n",
    "plt.scatter(pca_df[0], pca_df[1])\n",
    "plt.xlabel('PC_1 '+ '('+f'{round(variance_percent[0],2)}%'+')')\n",
    "plt.ylabel('PC_2 '+ '('+f'{round(variance_percent[1],2)}%'+')')"
   ]
  },
  {
   "cell_type": "markdown",
   "metadata": {},
   "source": [
    "# Problem 2"
   ]
  },
  {
   "cell_type": "code",
   "execution_count": 8,
   "metadata": {},
   "outputs": [
    {
     "data": {
      "text/plain": [
       "Text(0, 0.5, 'Sum of Squared Distances')"
      ]
     },
     "execution_count": 8,
     "metadata": {},
     "output_type": "execute_result"
    },
    {
     "data": {
      "image/png": "[encoded data removed]",
      "text/plain": [
       "<Figure size 432x288 with 1 Axes>"
      ]
     },
     "metadata": {
      "needs_background": "light"
     },
     "output_type": "display_data"
    }
   ],
   "source": [
    "# A.) Using the principal componenet data geneated from problem 1B, plot the sum of squared distances of all points in a cluster\n",
    "# for all principal components (1-20). Please use sklearn's kmeans method and its attribute kmeans.inertia to obtain the sum of\n",
    "# squared distances. From this plot you should be able to deduce the optimal number of clusters. Please report the optimal\n",
    "# number of clusters based on your plot.\n",
    "\n",
    "from sklearn.cluster import KMeans\n",
    "sse_list = [] # this will store the sum of squared errors for each time we perform kmeans with a particular number of cluster \n",
    "\n",
    "# checking sum of squared distances for each time we perform kmeans by taking number of clusters from 1 to 15\n",
    "for i in range(1,15):\n",
    "    kmeans = KMeans(i) # creating kmeans object with a specific number of cluster\n",
    "    kmeans.fit(pca_df) # fitting our pca data on kmeans \n",
    "    sse = kmeans.inertia_ # finds the sum of squared distances\n",
    "    sse_list.append(sse)\n",
    "\n",
    "# Code for plotting\n",
    "n_clusters = range(1,15)\n",
    "plt.xticks(n_clusters)\n",
    "plt.plot(n_clusters,sse_list)\n",
    "plt.title('Elbow Plot')\n",
    "plt.xlabel('Number of Clusters')\n",
    "plt.ylabel('Sum of Squared Distances')\n",
    "\n",
    "# We can see that the sum of squared distances is decreasing rapidly until we reach 3 clusters, and after this point the\n",
    "# sum of squared distances is not decreasing much as the line of our curve becomes almost parallel to the x axis, so this\n",
    "# tells us that the optimal number of clusters for our data is 3 clusters"
   ]
  },
  {
   "cell_type": "code",
   "execution_count": 9,
   "metadata": {},
   "outputs": [
    {
     "name": "stdout",
     "output_type": "stream",
     "text": [
      "{'0': (0.7949765262488404, 3.674806807609104), '1': (3.6045371832133, -4.0747199978125925), '2': (-3.0247007915425006, 7.3356681611657795)}\n"
     ]
    }
   ],
   "source": [
    "# B.) Perform kmeans clustering using the first two dimesnions of the original data (from datapoints.csv). To determine the\n",
    "# number of clusters that you should begin with, refer to your elbow plot from problem 2A, and randomly generate the points\n",
    "# of centroids according to that cluster number (i.e.if you reported the optimal number of clusters to be 10 in problem 2A,\n",
    "# you should start with 10 centroids). Before generating these centroids, set your random seed as follows: random.seed(10).\n",
    "# Perform 10 iterations of kmeans. Finally plot the kmeans clusters. It should be clear on the plot as to what cluster each \n",
    "# point belong to (i.e. each cluster should be a different cluster). This plot should also contain the final calculated \n",
    "# centroid for each cluster. Make sure to include a legend for your plot.\n",
    "import random\n",
    "import math\n",
    "\n",
    "X = data['0'] # extracting the first column from our original data as X\n",
    "Y = data['1'] # extracting the second column from our original data as Y\n",
    "n_clusters = 3 # specifying the initial number of clusters from our elbow plot\n",
    "\n",
    "centroids = {} # this will store the coordinates for our centroids \n",
    "\n",
    "# generating three initial centroids randomly\n",
    "centroid_index = random.sample(range(0, len(X)-1), n_clusters) # generate 3 random numbers for our initial centroids\n",
    "\n",
    "for i,index in enumerate(centroid_index):\n",
    "    centroid = (X[index], Y[index])\n",
    "    centroids[str(i)] = centroid  \n",
    "print(centroids)\n",
    "\n",
    "# finding the distance of each data point with each centroid and then assign each data point to the centroid with which\n",
    "# it has minimum distance\n",
    "def generating_clusters(X,Y,centroids):\n",
    "    clusters = {} # this will store our clusters around each centroid\n",
    "    \n",
    "    # assigning an empty list to each key of our clusters dictionary\n",
    "    for key in centroids:\n",
    "        clusters[key] = []\n",
    "\n",
    "    # looping over each datapoint in our first two columns\n",
    "    for i in range(len(X)):\n",
    "        distances = [] # this will store the distance of a particular datapoint with each of the centroid\n",
    "        datapoint = (X[i],Y[i]) # this is our datapoint with x and y coordinates\n",
    "        \n",
    "        # looping over each centroid and finding the euclidean distance of each datapoint with each centroid\n",
    "        for centroid in centroids:\n",
    "            diff_1 = (datapoint[0]-centroids[centroid][0])**2\n",
    "            diff_2 = (datapoint[1]-centroids[centroid][1])**2\n",
    "            dist = math.sqrt(diff_1+diff_2)\n",
    "            distances.append(dist)\n",
    "            min_index = distances.index(min(distances)) # finding the minimum distance out of all the distances\n",
    "        \n",
    "        # finding that the minimum distance is associated with which centroid and appending the datapoint to that \n",
    "        # particular cluster\n",
    "        for key in centroids:\n",
    "            if min_index == int(key):\n",
    "                clusters[key].append(datapoint)\n",
    "        \n",
    "    return clusters\n",
    "\n",
    "# finding new centroids by calculating the mean of datapoints within each cluster\n",
    "def update_centroid(clusters, centroids):\n",
    "    # looping over each key in our clusters dictionary\n",
    "    for key in clusters:\n",
    "        size = len(clusters[key])\n",
    "        sum_X = 0 # initializing the sum of x coordinates of the datapoint with 0\n",
    "        sum_Y = 0 # initializing the sum of y  coordinates of the datapoints with 0\n",
    "        # looping over each x and y datapoint in our cluster\n",
    "        for i in range(size):\n",
    "            sum_X += clusters[key][i][0] # adding x coordinates of the datapoint to the sum of x datapoints i.e. sum_X\n",
    "            sum_Y += clusters[key][i][1] # adding y coordinates datapoint to the sum of y datapoints i.e. sum_Y\n",
    "        # calculating the mean of x and y datapoints which will act as our new centroid\n",
    "        mean_X = sum_X / size\n",
    "        mean_Y = sum_Y / size\n",
    "        centroid = (mean_X, mean_Y) # storing mean of x and y datapoints as a tuple\n",
    "        centroids[key] = centroid # updating previous centroid by the new centroid\n",
    "        \n",
    "    return centroids\n",
    "\n",
    "# running kmeans for 10 iterations\n",
    "for i in range(10):\n",
    "    clusters = generating_clusters(X,Y,centroids)\n",
    "    centroids = update_centroid(clusters, centroids)"
   ]
  },
  {
   "cell_type": "code",
   "execution_count": 10,
   "metadata": {},
   "outputs": [
    {
     "name": "stdout",
     "output_type": "stream",
     "text": [
      "Final Centroid Points:  {'0': (2.423362574239119, 5.776830517977043), '1': (2.9464694034747367, -2.680520987334233), '2': (-5.114289298803719, 3.724857807503987)}\n"
     ]
    }
   ],
   "source": [
    "print('Final Centroid Points: ', centroids)"
   ]
  },
  {
   "cell_type": "code",
   "execution_count": 11,
   "metadata": {},
   "outputs": [
    {
     "data": {
      "text/plain": [
       "Text(0, 0.5, 'Y')"
      ]
     },
     "execution_count": 11,
     "metadata": {},
     "output_type": "execute_result"
    },
    {
     "data": {
      "image/png": "[encoded data removed]",
      "text/plain": [
       "<Figure size 432x288 with 1 Axes>"
      ]
     },
     "metadata": {
      "needs_background": "light"
     },
     "output_type": "display_data"
    }
   ],
   "source": [
    "# Code for plotting clusters\n",
    "\n",
    "colors = ['red','blue','yellow'] # colors for our three clusters\n",
    "\n",
    "# looping over each cluster and each color\n",
    "for key,color in zip(clusters,colors):\n",
    "    X_clust = [] # will store x coordinate for each datapoint in a particular cluster\n",
    "    Y_clust = [] # will store y coordinate for each datapoint in a particular cluster\n",
    "    \n",
    "    # looping over each datapoint in a particular cluster\n",
    "    for i in range(len(clusters[key])):\n",
    "        X_clust.append(clusters[key][i][0])\n",
    "        Y_clust.append(clusters[key][i][1])\n",
    "        \n",
    "    # plotting the datapoints in a particular cluster\n",
    "    plt.scatter(X_clust, Y_clust, c = color, label = 'Cluster '+key)\n",
    "\n",
    "    # Code for plotting centroids\n",
    "    x_cent = [] # will store the x coordinate for each centroid\n",
    "    y_cent = [] # will store the y coordinate for each centroid\n",
    "    \n",
    "    # looping over each centroid\n",
    "    for i in range(len(centroids[key])):\n",
    "        x_cent.append(centroids[key][0])\n",
    "        y_cent.append(centroids[key][1])\n",
    "    \n",
    "    # plotting the centroids\n",
    "    plt.scatter(x_cent, y_cent, s = 500, c = 'black')\n",
    "\n",
    "plt.legend()\n",
    "plt.xlabel('X')\n",
    "plt.ylabel('Y')"
   ]
  }
 ],
 "metadata": {
  "kernelspec": {
   "display_name": "Python 3",
   "language": "python",
   "name": "python3"
  },
  "language_info": {
   "codemirror_mode": {
    "name": "ipython",
    "version": 3
   },
   "file_extension": ".py",
   "mimetype": "text/x-python",
   "name": "python",
   "nbconvert_exporter": "python",
   "pygments_lexer": "ipython3",
   "version": "3.8.3"
  }
 },
 "nbformat": 4,
 "nbformat_minor": 2
}
